{
 "cells": [
  {
   "cell_type": "markdown",
   "id": "807d1b68-d124-49af-b41a-54a654ddbfd6",
   "metadata": {},
   "source": [
    "# Ridhima Taneja                                         21BCE2188"
   ]
  },
  {
   "cell_type": "markdown",
   "id": "f5cf6d31-2371-4fc7-9808-b688ac53b5e5",
   "metadata": {},
   "source": [
    "## Machine Learning Lab Assignment 3"
   ]
  },
  {
   "cell_type": "markdown",
   "id": "8058a0f7-cc0f-4d87-9d31-4bde5574703f",
   "metadata": {},
   "source": [
    "### Question 1"
   ]
  },
  {
   "cell_type": "markdown",
   "id": "731d7944-703a-453a-8cc2-d3bd04cbec47",
   "metadata": {},
   "source": [
    "Apply SVM classifier for the dataset “Breast Cancer” from UCI repository."
   ]
  },
  {
   "cell_type": "code",
   "execution_count": 1,
   "id": "24da4345-5b0d-46df-95e5-efec46bb0e70",
   "metadata": {},
   "outputs": [],
   "source": [
    "# Import necessary libraries\n",
    "from sklearn import datasets\n",
    "from sklearn.model_selection import train_test_split\n",
    "from sklearn.preprocessing import StandardScaler\n",
    "from sklearn.svm import SVC\n",
    "from sklearn.metrics import accuracy_score, classification_report, hinge_loss"
   ]
  },
  {
   "cell_type": "code",
   "execution_count": 2,
   "id": "a2871440-ffd1-4fc5-848a-2aa7f17f5579",
   "metadata": {},
   "outputs": [],
   "source": [
    "# Load the Breast Cancer dataset\n",
    "from sklearn.datasets import load_breast_cancer\n",
    "data = load_breast_cancer()\n",
    "X, y = data.data, data.target"
   ]
  },
  {
   "cell_type": "code",
   "execution_count": 3,
   "id": "c24a625b-3c69-451f-891f-4fd30b50a17b",
   "metadata": {},
   "outputs": [],
   "source": [
    "# Split the data into training and testing sets\n",
    "X_train, X_test, y_train, y_test = train_test_split(X, y, test_size=0.3, random_state=42)"
   ]
  },
  {
   "cell_type": "code",
   "execution_count": 4,
   "id": "f4d363f7-3297-468e-96a1-14cd8d4cba44",
   "metadata": {},
   "outputs": [],
   "source": [
    "# Standardize the features\n",
    "scaler = StandardScaler()\n",
    "X_train = scaler.fit_transform(X_train)\n",
    "X_test = scaler.transform(X_test)"
   ]
  },
  {
   "cell_type": "markdown",
   "id": "f9c69947-ef43-4db7-be95-84837f6aa34c",
   "metadata": {},
   "source": [
    "Task 1: Use Linear Kernel for training. Find the models efficiency using evaluation \n",
    "metrics."
   ]
  },
  {
   "cell_type": "code",
   "execution_count": 5,
   "id": "4942c581-6702-4ed3-b718-052686601ade",
   "metadata": {},
   "outputs": [
    {
     "name": "stdout",
     "output_type": "stream",
     "text": [
      "Accuracy (Linear Kernel): 0.9766081871345029\n",
      "Classification Report (Linear Kernel):\n",
      "               precision    recall  f1-score   support\n",
      "\n",
      "           0       0.97      0.97      0.97        63\n",
      "           1       0.98      0.98      0.98       108\n",
      "\n",
      "    accuracy                           0.98       171\n",
      "   macro avg       0.97      0.97      0.97       171\n",
      "weighted avg       0.98      0.98      0.98       171\n",
      "\n"
     ]
    }
   ],
   "source": [
    "# Train SVM with Linear Kernel\n",
    "svm_linear = SVC(kernel='linear')\n",
    "svm_linear.fit(X_train, y_train)\n",
    "\n",
    "# Predict on test data\n",
    "y_pred_linear = svm_linear.predict(X_test)\n",
    "\n",
    "# Evaluate the model\n",
    "print(\"Accuracy (Linear Kernel):\", accuracy_score(y_test, y_pred_linear))\n",
    "print(\"Classification Report (Linear Kernel):\\n\", classification_report(y_test, y_pred_linear))\n"
   ]
  },
  {
   "cell_type": "markdown",
   "id": "3312ea6a-3cf8-4cf9-92f8-63499d55be2e",
   "metadata": {},
   "source": [
    "Task 2: Use non-linear Kernel for training. Find the models efficiency using \n",
    "evaluation metrics"
   ]
  },
  {
   "cell_type": "code",
   "execution_count": 6,
   "id": "9a0b4186-47fc-41b2-8d1b-df14472be53f",
   "metadata": {},
   "outputs": [
    {
     "name": "stdout",
     "output_type": "stream",
     "text": [
      "Accuracy (RBF Kernel): 0.9766081871345029\n",
      "Classification Report (RBF Kernel):\n",
      "               precision    recall  f1-score   support\n",
      "\n",
      "           0       0.97      0.97      0.97        63\n",
      "           1       0.98      0.98      0.98       108\n",
      "\n",
      "    accuracy                           0.98       171\n",
      "   macro avg       0.97      0.97      0.97       171\n",
      "weighted avg       0.98      0.98      0.98       171\n",
      "\n"
     ]
    }
   ],
   "source": [
    "# Train SVM with RBF Kernel (non-linear)\n",
    "svm_rbf = SVC(kernel='rbf')\n",
    "svm_rbf.fit(X_train, y_train)\n",
    "\n",
    "# Predict on test data\n",
    "y_pred_rbf = svm_rbf.predict(X_test)\n",
    "\n",
    "# Evaluate the model\n",
    "print(\"Accuracy (RBF Kernel):\", accuracy_score(y_test, y_pred_rbf))\n",
    "print(\"Classification Report (RBF Kernel):\\n\", classification_report(y_test, y_pred_rbf))\n"
   ]
  },
  {
   "cell_type": "markdown",
   "id": "defbad88-128c-4d1a-a997-381a1c629063",
   "metadata": {},
   "source": [
    "Task 3: : Apply Hinge Loss evaluation function to measure the distance of data points\r\n",
    "from the decision boundary"
   ]
  },
  {
   "cell_type": "code",
   "execution_count": 7,
   "id": "fc344fee-7215-4a54-a345-cbc995bdeac4",
   "metadata": {},
   "outputs": [
    {
     "name": "stdout",
     "output_type": "stream",
     "text": [
      "Hinge Loss (Linear Kernel): 0.07269353135901507\n"
     ]
    }
   ],
   "source": [
    "# Calculate the decision function for linear kernel\n",
    "decision_function = svm_linear.decision_function(X_test)\n",
    "\n",
    "# Compute the hinge loss for the linear kernel SVM\n",
    "hinge_loss_value = hinge_loss(y_test, decision_function)\n",
    "print(\"Hinge Loss (Linear Kernel):\", hinge_loss_value)\n"
   ]
  },
  {
   "cell_type": "markdown",
   "id": "7ff52903-2d58-449d-bd45-a684a7408173",
   "metadata": {},
   "source": [
    "### Question 2."
   ]
  },
  {
   "cell_type": "markdown",
   "id": "6deee0ba-7389-4ea5-aac7-a1478042262c",
   "metadata": {},
   "source": [
    "Apply k-means clustering for the given dataset. Download the dataset “Sales Transactions Weekly” from UCI repository"
   ]
  },
  {
   "cell_type": "code",
   "execution_count": 8,
   "id": "f861b756-9828-48ef-8346-fa19d777fe24",
   "metadata": {},
   "outputs": [],
   "source": [
    "#import libraries\n",
    "from ucimlrepo import fetch_ucirepo\n",
    "import pandas as pd\n",
    "from sklearn.cluster import KMeans\n",
    "from sklearn.metrics import silhouette_score\n",
    "import matplotlib.pyplot as plt"
   ]
  },
  {
   "cell_type": "code",
   "execution_count": 9,
   "id": "ce6fb4ce-3308-4709-afed-e5aac1717549",
   "metadata": {},
   "outputs": [],
   "source": [
    "# Fetch dataset\n",
    "sales_transactions_weekly = fetch_ucirepo(id=396)\n",
    "X = sales_transactions_weekly.data.features\n"
   ]
  },
  {
   "cell_type": "code",
   "execution_count": 10,
   "id": "1a12d0cf-bbd7-4021-adc2-744df80e1c4c",
   "metadata": {},
   "outputs": [
    {
     "data": {
      "text/plain": [
       "<bound method NDFrame.head of      W0  W1  W2  W3  W4  W5  W6  W7  W8  W9  ...  Normalized 42  \\\n",
       "0    11  12  10   8  13  12  14  21   6  14  ...           0.06   \n",
       "1     7   6   3   2   7   1   6   3   3   3  ...           0.20   \n",
       "2     7  11   8   9  10   8   7  13  12   6  ...           0.27   \n",
       "3    12   8  13   5   9   6   9  13  13  11  ...           0.41   \n",
       "4     8   5  13  11   6   7   9  14   9   9  ...           0.27   \n",
       "..   ..  ..  ..  ..  ..  ..  ..  ..  ..  ..  ...            ...   \n",
       "806   0   0   1   0   0   2   1   0   0   1  ...           0.00   \n",
       "807   0   1   0   0   1   2   2   6   0   1  ...           0.43   \n",
       "808   1   0   0   0   1   1   2   1   1   0  ...           0.50   \n",
       "809   0   0   0   1   0   0   0   0   1   0  ...           0.00   \n",
       "810   0   1   0   0   0   0   0   0   0   0  ...           0.00   \n",
       "\n",
       "     Normalized 43  Normalized 44  Normalized 45  Normalized 46  \\\n",
       "0             0.22           0.28           0.39           0.50   \n",
       "1             0.40           0.50           0.10           0.10   \n",
       "2             1.00           0.18           0.18           0.36   \n",
       "3             0.47           0.06           0.12           0.24   \n",
       "4             0.53           0.27           0.60           0.20   \n",
       "..             ...            ...            ...            ...   \n",
       "806           0.33           0.33           0.00           0.00   \n",
       "807           0.43           0.57           0.29           0.57   \n",
       "808           0.00           0.00           0.50           0.50   \n",
       "809           0.00           0.00           0.50           0.50   \n",
       "810           0.00           0.00           0.00           0.00   \n",
       "\n",
       "     Normalized 47  Normalized 48  Normalized 49  Normalized 50  Normalized 51  \n",
       "0             0.00           0.22           0.17           0.11           0.39  \n",
       "1             0.40           0.50           0.10           0.60           0.00  \n",
       "2             0.45           1.00           0.45           0.45           0.36  \n",
       "3             0.35           0.71           0.35           0.29           0.35  \n",
       "4             0.20           0.13           0.53           0.33           0.40  \n",
       "..             ...            ...            ...            ...            ...  \n",
       "806           0.33           0.00           0.00           0.67           0.00  \n",
       "807           0.71           0.71           0.71           0.86           0.71  \n",
       "808           0.00           0.00           0.00           1.00           0.75  \n",
       "809           0.00           0.00           0.00           1.00           0.00  \n",
       "810           0.00           0.00           0.00           0.00           0.33  \n",
       "\n",
       "[811 rows x 106 columns]>"
      ]
     },
     "execution_count": 10,
     "metadata": {},
     "output_type": "execute_result"
    }
   ],
   "source": [
    "X.head"
   ]
  },
  {
   "cell_type": "code",
   "execution_count": 11,
   "id": "023d31c5-6631-4e8a-95f3-cc36f65bb009",
   "metadata": {},
   "outputs": [],
   "source": [
    "# Drop normalized columns \n",
    "columns_to_drop = [col for col in X.columns if 'normalized' in col.lower()]\n",
    "X_cleaned = X.drop(columns=columns_to_drop)"
   ]
  },
  {
   "cell_type": "code",
   "execution_count": 12,
   "id": "e3d075f3-8739-4e7a-97b8-216bd0b34745",
   "metadata": {},
   "outputs": [
    {
     "data": {
      "text/html": [
       "<div>\n",
       "<style scoped>\n",
       "    .dataframe tbody tr th:only-of-type {\n",
       "        vertical-align: middle;\n",
       "    }\n",
       "\n",
       "    .dataframe tbody tr th {\n",
       "        vertical-align: top;\n",
       "    }\n",
       "\n",
       "    .dataframe thead th {\n",
       "        text-align: right;\n",
       "    }\n",
       "</style>\n",
       "<table border=\"1\" class=\"dataframe\">\n",
       "  <thead>\n",
       "    <tr style=\"text-align: right;\">\n",
       "      <th></th>\n",
       "      <th>W0</th>\n",
       "      <th>W1</th>\n",
       "      <th>W2</th>\n",
       "      <th>W3</th>\n",
       "      <th>W4</th>\n",
       "      <th>W5</th>\n",
       "      <th>W6</th>\n",
       "      <th>W7</th>\n",
       "      <th>W8</th>\n",
       "      <th>W9</th>\n",
       "      <th>...</th>\n",
       "      <th>W44</th>\n",
       "      <th>W45</th>\n",
       "      <th>W46</th>\n",
       "      <th>W47</th>\n",
       "      <th>W48</th>\n",
       "      <th>W49</th>\n",
       "      <th>W50</th>\n",
       "      <th>W51</th>\n",
       "      <th>MIN</th>\n",
       "      <th>MAX</th>\n",
       "    </tr>\n",
       "  </thead>\n",
       "  <tbody>\n",
       "    <tr>\n",
       "      <th>0</th>\n",
       "      <td>11</td>\n",
       "      <td>12</td>\n",
       "      <td>10</td>\n",
       "      <td>8</td>\n",
       "      <td>13</td>\n",
       "      <td>12</td>\n",
       "      <td>14</td>\n",
       "      <td>21</td>\n",
       "      <td>6</td>\n",
       "      <td>14</td>\n",
       "      <td>...</td>\n",
       "      <td>8</td>\n",
       "      <td>10</td>\n",
       "      <td>12</td>\n",
       "      <td>3</td>\n",
       "      <td>7</td>\n",
       "      <td>6</td>\n",
       "      <td>5</td>\n",
       "      <td>10</td>\n",
       "      <td>3</td>\n",
       "      <td>21</td>\n",
       "    </tr>\n",
       "    <tr>\n",
       "      <th>1</th>\n",
       "      <td>7</td>\n",
       "      <td>6</td>\n",
       "      <td>3</td>\n",
       "      <td>2</td>\n",
       "      <td>7</td>\n",
       "      <td>1</td>\n",
       "      <td>6</td>\n",
       "      <td>3</td>\n",
       "      <td>3</td>\n",
       "      <td>3</td>\n",
       "      <td>...</td>\n",
       "      <td>5</td>\n",
       "      <td>1</td>\n",
       "      <td>1</td>\n",
       "      <td>4</td>\n",
       "      <td>5</td>\n",
       "      <td>1</td>\n",
       "      <td>6</td>\n",
       "      <td>0</td>\n",
       "      <td>0</td>\n",
       "      <td>10</td>\n",
       "    </tr>\n",
       "    <tr>\n",
       "      <th>2</th>\n",
       "      <td>7</td>\n",
       "      <td>11</td>\n",
       "      <td>8</td>\n",
       "      <td>9</td>\n",
       "      <td>10</td>\n",
       "      <td>8</td>\n",
       "      <td>7</td>\n",
       "      <td>13</td>\n",
       "      <td>12</td>\n",
       "      <td>6</td>\n",
       "      <td>...</td>\n",
       "      <td>5</td>\n",
       "      <td>5</td>\n",
       "      <td>7</td>\n",
       "      <td>8</td>\n",
       "      <td>14</td>\n",
       "      <td>8</td>\n",
       "      <td>8</td>\n",
       "      <td>7</td>\n",
       "      <td>3</td>\n",
       "      <td>14</td>\n",
       "    </tr>\n",
       "    <tr>\n",
       "      <th>3</th>\n",
       "      <td>12</td>\n",
       "      <td>8</td>\n",
       "      <td>13</td>\n",
       "      <td>5</td>\n",
       "      <td>9</td>\n",
       "      <td>6</td>\n",
       "      <td>9</td>\n",
       "      <td>13</td>\n",
       "      <td>13</td>\n",
       "      <td>11</td>\n",
       "      <td>...</td>\n",
       "      <td>3</td>\n",
       "      <td>4</td>\n",
       "      <td>6</td>\n",
       "      <td>8</td>\n",
       "      <td>14</td>\n",
       "      <td>8</td>\n",
       "      <td>7</td>\n",
       "      <td>8</td>\n",
       "      <td>2</td>\n",
       "      <td>19</td>\n",
       "    </tr>\n",
       "    <tr>\n",
       "      <th>4</th>\n",
       "      <td>8</td>\n",
       "      <td>5</td>\n",
       "      <td>13</td>\n",
       "      <td>11</td>\n",
       "      <td>6</td>\n",
       "      <td>7</td>\n",
       "      <td>9</td>\n",
       "      <td>14</td>\n",
       "      <td>9</td>\n",
       "      <td>9</td>\n",
       "      <td>...</td>\n",
       "      <td>7</td>\n",
       "      <td>12</td>\n",
       "      <td>6</td>\n",
       "      <td>6</td>\n",
       "      <td>5</td>\n",
       "      <td>11</td>\n",
       "      <td>8</td>\n",
       "      <td>9</td>\n",
       "      <td>3</td>\n",
       "      <td>18</td>\n",
       "    </tr>\n",
       "    <tr>\n",
       "      <th>...</th>\n",
       "      <td>...</td>\n",
       "      <td>...</td>\n",
       "      <td>...</td>\n",
       "      <td>...</td>\n",
       "      <td>...</td>\n",
       "      <td>...</td>\n",
       "      <td>...</td>\n",
       "      <td>...</td>\n",
       "      <td>...</td>\n",
       "      <td>...</td>\n",
       "      <td>...</td>\n",
       "      <td>...</td>\n",
       "      <td>...</td>\n",
       "      <td>...</td>\n",
       "      <td>...</td>\n",
       "      <td>...</td>\n",
       "      <td>...</td>\n",
       "      <td>...</td>\n",
       "      <td>...</td>\n",
       "      <td>...</td>\n",
       "      <td>...</td>\n",
       "    </tr>\n",
       "    <tr>\n",
       "      <th>806</th>\n",
       "      <td>0</td>\n",
       "      <td>0</td>\n",
       "      <td>1</td>\n",
       "      <td>0</td>\n",
       "      <td>0</td>\n",
       "      <td>2</td>\n",
       "      <td>1</td>\n",
       "      <td>0</td>\n",
       "      <td>0</td>\n",
       "      <td>1</td>\n",
       "      <td>...</td>\n",
       "      <td>1</td>\n",
       "      <td>0</td>\n",
       "      <td>0</td>\n",
       "      <td>1</td>\n",
       "      <td>0</td>\n",
       "      <td>0</td>\n",
       "      <td>2</td>\n",
       "      <td>0</td>\n",
       "      <td>0</td>\n",
       "      <td>3</td>\n",
       "    </tr>\n",
       "    <tr>\n",
       "      <th>807</th>\n",
       "      <td>0</td>\n",
       "      <td>1</td>\n",
       "      <td>0</td>\n",
       "      <td>0</td>\n",
       "      <td>1</td>\n",
       "      <td>2</td>\n",
       "      <td>2</td>\n",
       "      <td>6</td>\n",
       "      <td>0</td>\n",
       "      <td>1</td>\n",
       "      <td>...</td>\n",
       "      <td>4</td>\n",
       "      <td>2</td>\n",
       "      <td>4</td>\n",
       "      <td>5</td>\n",
       "      <td>5</td>\n",
       "      <td>5</td>\n",
       "      <td>6</td>\n",
       "      <td>5</td>\n",
       "      <td>0</td>\n",
       "      <td>7</td>\n",
       "    </tr>\n",
       "    <tr>\n",
       "      <th>808</th>\n",
       "      <td>1</td>\n",
       "      <td>0</td>\n",
       "      <td>0</td>\n",
       "      <td>0</td>\n",
       "      <td>1</td>\n",
       "      <td>1</td>\n",
       "      <td>2</td>\n",
       "      <td>1</td>\n",
       "      <td>1</td>\n",
       "      <td>0</td>\n",
       "      <td>...</td>\n",
       "      <td>0</td>\n",
       "      <td>2</td>\n",
       "      <td>2</td>\n",
       "      <td>0</td>\n",
       "      <td>0</td>\n",
       "      <td>0</td>\n",
       "      <td>4</td>\n",
       "      <td>3</td>\n",
       "      <td>0</td>\n",
       "      <td>4</td>\n",
       "    </tr>\n",
       "    <tr>\n",
       "      <th>809</th>\n",
       "      <td>0</td>\n",
       "      <td>0</td>\n",
       "      <td>0</td>\n",
       "      <td>1</td>\n",
       "      <td>0</td>\n",
       "      <td>0</td>\n",
       "      <td>0</td>\n",
       "      <td>0</td>\n",
       "      <td>1</td>\n",
       "      <td>0</td>\n",
       "      <td>...</td>\n",
       "      <td>0</td>\n",
       "      <td>1</td>\n",
       "      <td>1</td>\n",
       "      <td>0</td>\n",
       "      <td>0</td>\n",
       "      <td>0</td>\n",
       "      <td>2</td>\n",
       "      <td>0</td>\n",
       "      <td>0</td>\n",
       "      <td>2</td>\n",
       "    </tr>\n",
       "    <tr>\n",
       "      <th>810</th>\n",
       "      <td>0</td>\n",
       "      <td>1</td>\n",
       "      <td>0</td>\n",
       "      <td>0</td>\n",
       "      <td>0</td>\n",
       "      <td>0</td>\n",
       "      <td>0</td>\n",
       "      <td>0</td>\n",
       "      <td>0</td>\n",
       "      <td>0</td>\n",
       "      <td>...</td>\n",
       "      <td>0</td>\n",
       "      <td>0</td>\n",
       "      <td>0</td>\n",
       "      <td>0</td>\n",
       "      <td>0</td>\n",
       "      <td>0</td>\n",
       "      <td>0</td>\n",
       "      <td>1</td>\n",
       "      <td>0</td>\n",
       "      <td>3</td>\n",
       "    </tr>\n",
       "  </tbody>\n",
       "</table>\n",
       "<p>811 rows × 54 columns</p>\n",
       "</div>"
      ],
      "text/plain": [
       "     W0  W1  W2  W3  W4  W5  W6  W7  W8  W9  ...  W44  W45  W46  W47  W48  \\\n",
       "0    11  12  10   8  13  12  14  21   6  14  ...    8   10   12    3    7   \n",
       "1     7   6   3   2   7   1   6   3   3   3  ...    5    1    1    4    5   \n",
       "2     7  11   8   9  10   8   7  13  12   6  ...    5    5    7    8   14   \n",
       "3    12   8  13   5   9   6   9  13  13  11  ...    3    4    6    8   14   \n",
       "4     8   5  13  11   6   7   9  14   9   9  ...    7   12    6    6    5   \n",
       "..   ..  ..  ..  ..  ..  ..  ..  ..  ..  ..  ...  ...  ...  ...  ...  ...   \n",
       "806   0   0   1   0   0   2   1   0   0   1  ...    1    0    0    1    0   \n",
       "807   0   1   0   0   1   2   2   6   0   1  ...    4    2    4    5    5   \n",
       "808   1   0   0   0   1   1   2   1   1   0  ...    0    2    2    0    0   \n",
       "809   0   0   0   1   0   0   0   0   1   0  ...    0    1    1    0    0   \n",
       "810   0   1   0   0   0   0   0   0   0   0  ...    0    0    0    0    0   \n",
       "\n",
       "     W49  W50  W51  MIN  MAX  \n",
       "0      6    5   10    3   21  \n",
       "1      1    6    0    0   10  \n",
       "2      8    8    7    3   14  \n",
       "3      8    7    8    2   19  \n",
       "4     11    8    9    3   18  \n",
       "..   ...  ...  ...  ...  ...  \n",
       "806    0    2    0    0    3  \n",
       "807    5    6    5    0    7  \n",
       "808    0    4    3    0    4  \n",
       "809    0    2    0    0    2  \n",
       "810    0    0    1    0    3  \n",
       "\n",
       "[811 rows x 54 columns]"
      ]
     },
     "execution_count": 12,
     "metadata": {},
     "output_type": "execute_result"
    }
   ],
   "source": [
    "X_cleaned"
   ]
  },
  {
   "cell_type": "markdown",
   "id": "9ad7a5ad-5b13-4c8d-9c88-8ee9db80e2e6",
   "metadata": {},
   "source": [
    "Task 1: Validate K using Elbow method"
   ]
  },
  {
   "cell_type": "code",
   "execution_count": 13,
   "id": "f3c9490e-652d-48d8-8ec3-b9c9383b958c",
   "metadata": {},
   "outputs": [
    {
     "data": {
      "image/png": "[encoded data removed]",
      "text/plain": [
       "<Figure size 800x500 with 1 Axes>"
      ]
     },
     "metadata": {},
     "output_type": "display_data"
    }
   ],
   "source": [
    "# Define a range of possible K values\n",
    "k_range = range(1, 11)\n",
    "inertia = []  # List to store the sum of squared distances for each K\n",
    "\n",
    "# Fit KMeans for each K value and compute inertia\n",
    "for k in k_range:\n",
    "    kmeans = KMeans(n_clusters=k, random_state=42)\n",
    "    kmeans.fit(X_cleaned)\n",
    "    inertia.append(kmeans.inertia_)\n",
    "\n",
    "# Plot the Elbow Method\n",
    "plt.figure(figsize=(8, 5))\n",
    "plt.plot(k_range, inertia, 'bx-')\n",
    "plt.xlabel('Number of clusters (K)')\n",
    "plt.ylabel('Inertia (Sum of Squared Distances)')\n",
    "plt.title('Elbow Method for Optimal K')\n",
    "plt.show()"
   ]
  },
  {
   "cell_type": "markdown",
   "id": "b1b2c2f0-6239-457a-9eda-eccfdb6c7af3",
   "metadata": {},
   "source": [
    "Task 2: Choose the K value using Silhouette Coefficient"
   ]
  },
  {
   "cell_type": "code",
   "execution_count": 14,
   "id": "9730efe8-b9b8-43ee-9c31-dd178783079b",
   "metadata": {},
   "outputs": [
    {
     "data": {
      "image/png": "[encoded data removed]",
      "text/plain": [
       "<Figure size 800x500 with 1 Axes>"
      ]
     },
     "metadata": {},
     "output_type": "display_data"
    },
    {
     "name": "stdout",
     "output_type": "stream",
     "text": [
      "Best K based on Silhouette Score: 2\n"
     ]
    }
   ],
   "source": [
    "silhouette_scores = []\n",
    "\n",
    "# Start from k=2 since Silhouette Score is not defined for k=1\n",
    "for k in range(2, 11):\n",
    "    kmeans = KMeans(n_clusters=k, random_state=42)\n",
    "    clusters = kmeans.fit_predict(X_cleaned)\n",
    "    score = silhouette_score(X_cleaned, clusters)\n",
    "    silhouette_scores.append(score)\n",
    "\n",
    "# Plot the Silhouette Score vs. number of clusters\n",
    "plt.figure(figsize=(8, 5))\n",
    "plt.plot(range(2, 11), silhouette_scores, 'bx-')\n",
    "plt.xlabel('Number of clusters (K)')\n",
    "plt.ylabel('Silhouette Score')\n",
    "plt.title('Silhouette Coefficient for Optimal K')\n",
    "plt.show()\n",
    "\n",
    "# Print the best K based on Silhouette Score\n",
    "best_k = range(2, 11)[silhouette_scores.index(max(silhouette_scores))]\n",
    "print(f'Best K based on Silhouette Score: {best_k}')"
   ]
  },
  {
   "cell_type": "markdown",
   "id": "f882121e-c51a-41d3-a986-63e8a17bfb00",
   "metadata": {},
   "source": [
    "Task 3: Use scatter plots or other visualization techniques to visualize the clusters."
   ]
  },
  {
   "cell_type": "code",
   "execution_count": 15,
   "id": "685f732e-3bc0-402f-8c96-bd0046352dca",
   "metadata": {},
   "outputs": [
    {
     "data": {
      "image/png": "[encoded data removed]",
      "text/plain": [
       "<Figure size 800x500 with 1 Axes>"
      ]
     },
     "metadata": {},
     "output_type": "display_data"
    }
   ],
   "source": [
    "# Fit KMeans with the best K\n",
    "kmeans = KMeans(n_clusters=best_k, random_state=42)\n",
    "clusters = kmeans.fit_predict(X_cleaned)\n",
    "\n",
    "# Get the centroids of the clusters\n",
    "centroids = kmeans.cluster_centers_\n",
    "\n",
    "# Scatter plot of the first two features with centroids\n",
    "plt.figure(figsize=(8, 5))\n",
    "\n",
    "# Plot the data points\n",
    "plt.scatter(X_cleaned.iloc[:, 0], X_cleaned.iloc[:, 1], c=clusters, cmap='viridis', marker='o', label='Data points')\n",
    "\n",
    "# Plot the centroids\n",
    "plt.scatter(centroids[:, 0], centroids[:, 1], s=300, c='red', marker='x', label='Centroids')\n",
    "\n",
    "plt.title(f'Visualization of Clusters with Centroids for K={best_k}')\n",
    "plt.xlabel('Feature 1')\n",
    "plt.ylabel('Feature 2')\n",
    "plt.show()"
   ]
  },
  {
   "cell_type": "markdown",
   "id": "f507716f-c6f8-484d-8861-3f04196a05b9",
   "metadata": {},
   "source": [
    "### Question 3"
   ]
  },
  {
   "cell_type": "markdown",
   "id": "050de0a4-4988-4de8-a6eb-f8f72309063b",
   "metadata": {},
   "source": [
    "Apply k-modes clustering for the given dataset. Use the following dataset to find the optimal number of clusters"
   ]
  },
  {
   "cell_type": "code",
   "execution_count": 17,
   "id": "c2820dbc-6835-45a0-b464-e8c0b754f004",
   "metadata": {},
   "outputs": [],
   "source": [
    "#import neccessary libraries\n",
    "import pandas as pd\n",
    "from kmodes.kmodes import KModes\n",
    "import matplotlib.pyplot as plt\n",
    "import numpy as np\n",
    "from sklearn.metrics import silhouette_score\n",
    "from sklearn.preprocessing import LabelEncoder"
   ]
  },
  {
   "cell_type": "code",
   "execution_count": 18,
   "id": "063a9a4f-82c8-46a7-b5d0-710ad5609e6b",
   "metadata": {},
   "outputs": [],
   "source": [
    "#create dataset\n",
    "data = {\n",
    "    'P1': ['blonde', 'amber', 'fair'],\n",
    "    'P2': ['brunette', 'gray', 'brown'],\n",
    "    'P3': ['red', 'green', 'brown'],\n",
    "    'P4': ['black', 'hazel','brown'],\n",
    "    'P5': ['brunette', 'amber', 'fair'],\n",
    "    'P6': ['black', 'gray', 'brown'],\n",
    "    'P7': ['red', 'green', 'fair'],\n",
    "    'P8': ['black', 'hazel', 'fair']\n",
    "}\n",
    "\n",
    "# Convert the dictionary to a DataFrame\n",
    "df = pd.DataFrame(data, index=['hair_color', 'eye_color', 'skin_color'])\n",
    "\n",
    "# Transpose the DataFrame so each person is a row\n",
    "df = df.T\n"
   ]
  },
  {
   "cell_type": "code",
   "execution_count": 19,
   "id": "33a4daae-f777-47c2-9777-0663ed428c0c",
   "metadata": {},
   "outputs": [
    {
     "data": {
      "text/html": [
       "<div>\n",
       "<style scoped>\n",
       "    .dataframe tbody tr th:only-of-type {\n",
       "        vertical-align: middle;\n",
       "    }\n",
       "\n",
       "    .dataframe tbody tr th {\n",
       "        vertical-align: top;\n",
       "    }\n",
       "\n",
       "    .dataframe thead th {\n",
       "        text-align: right;\n",
       "    }\n",
       "</style>\n",
       "<table border=\"1\" class=\"dataframe\">\n",
       "  <thead>\n",
       "    <tr style=\"text-align: right;\">\n",
       "      <th></th>\n",
       "      <th>hair_color</th>\n",
       "      <th>eye_color</th>\n",
       "      <th>skin_color</th>\n",
       "    </tr>\n",
       "  </thead>\n",
       "  <tbody>\n",
       "    <tr>\n",
       "      <th>P1</th>\n",
       "      <td>blonde</td>\n",
       "      <td>amber</td>\n",
       "      <td>fair</td>\n",
       "    </tr>\n",
       "    <tr>\n",
       "      <th>P2</th>\n",
       "      <td>brunette</td>\n",
       "      <td>gray</td>\n",
       "      <td>brown</td>\n",
       "    </tr>\n",
       "    <tr>\n",
       "      <th>P3</th>\n",
       "      <td>red</td>\n",
       "      <td>green</td>\n",
       "      <td>brown</td>\n",
       "    </tr>\n",
       "    <tr>\n",
       "      <th>P4</th>\n",
       "      <td>black</td>\n",
       "      <td>hazel</td>\n",
       "      <td>brown</td>\n",
       "    </tr>\n",
       "    <tr>\n",
       "      <th>P5</th>\n",
       "      <td>brunette</td>\n",
       "      <td>amber</td>\n",
       "      <td>fair</td>\n",
       "    </tr>\n",
       "    <tr>\n",
       "      <th>P6</th>\n",
       "      <td>black</td>\n",
       "      <td>gray</td>\n",
       "      <td>brown</td>\n",
       "    </tr>\n",
       "    <tr>\n",
       "      <th>P7</th>\n",
       "      <td>red</td>\n",
       "      <td>green</td>\n",
       "      <td>fair</td>\n",
       "    </tr>\n",
       "    <tr>\n",
       "      <th>P8</th>\n",
       "      <td>black</td>\n",
       "      <td>hazel</td>\n",
       "      <td>fair</td>\n",
       "    </tr>\n",
       "  </tbody>\n",
       "</table>\n",
       "</div>"
      ],
      "text/plain": [
       "   hair_color eye_color skin_color\n",
       "P1     blonde     amber       fair\n",
       "P2   brunette      gray      brown\n",
       "P3        red     green      brown\n",
       "P4      black     hazel      brown\n",
       "P5   brunette     amber       fair\n",
       "P6      black      gray      brown\n",
       "P7        red     green       fair\n",
       "P8      black     hazel       fair"
      ]
     },
     "execution_count": 19,
     "metadata": {},
     "output_type": "execute_result"
    }
   ],
   "source": [
    "df"
   ]
  },
  {
   "cell_type": "code",
   "execution_count": 27,
   "id": "51b4e0c6-428a-418a-ac82-ef94a8fc5454",
   "metadata": {},
   "outputs": [
    {
     "name": "stdout",
     "output_type": "stream",
     "text": [
      "    hair_color  eye_color  skin_color\n",
      "P1           1          0           1\n",
      "P2           2          1           0\n",
      "P3           3          2           0\n",
      "P4           0          3           0\n",
      "P5           2          0           1\n",
      "P6           0          1           0\n",
      "P7           3          2           1\n",
      "P8           0          3           1\n"
     ]
    }
   ],
   "source": [
    "# Encoding categorical data\n",
    "le = LabelEncoder()\n",
    "df_encoded = df.apply(le.fit_transform)\n",
    "\n",
    "print(df_encoded)  "
   ]
  },
  {
   "cell_type": "markdown",
   "id": "6f534d87-2c1a-478a-afc0-a7773ace12ea",
   "metadata": {},
   "source": [
    "Task 1: Compare the validation methods to determine k optimal.(Elbow Curve and Silhouette Score)"
   ]
  },
  {
   "cell_type": "code",
   "execution_count": 36,
   "id": "43c42b75-6acd-446a-ab47-6404abf7496a",
   "metadata": {},
   "outputs": [
    {
     "name": "stdout",
     "output_type": "stream",
     "text": [
      "Init: initializing centroids\n",
      "Init: initializing clusters\n",
      "Starting iterations...\n",
      "Run 1, iteration: 1/100, moves: 0, cost: 9.0\n",
      "Init: initializing centroids\n",
      "Init: initializing clusters\n",
      "Starting iterations...\n",
      "Run 2, iteration: 1/100, moves: 1, cost: 10.0\n",
      "Init: initializing centroids\n",
      "Init: initializing clusters\n",
      "Starting iterations...\n",
      "Run 3, iteration: 1/100, moves: 0, cost: 9.0\n",
      "Init: initializing centroids\n",
      "Init: initializing clusters\n",
      "Starting iterations...\n",
      "Run 4, iteration: 1/100, moves: 0, cost: 9.0\n",
      "Init: initializing centroids\n",
      "Init: initializing clusters\n",
      "Starting iterations...\n",
      "Run 5, iteration: 1/100, moves: 0, cost: 9.0\n",
      "Best run was number 1\n",
      "Init: initializing centroids\n",
      "Init: initializing clusters\n",
      "Starting iterations...\n",
      "Run 1, iteration: 1/100, moves: 2, cost: 6.0\n",
      "Run 1, iteration: 2/100, moves: 0, cost: 6.0\n",
      "Init: initializing centroids\n",
      "Init: initializing clusters\n",
      "Starting iterations...\n",
      "Run 2, iteration: 1/100, moves: 0, cost: 8.0\n",
      "Init: initializing centroids\n",
      "Init: initializing clusters\n",
      "Starting iterations...\n",
      "Run 3, iteration: 1/100, moves: 0, cost: 6.0\n",
      "Init: initializing centroids\n",
      "Init: initializing clusters\n",
      "Starting iterations...\n",
      "Run 4, iteration: 1/100, moves: 1, cost: 6.0\n",
      "Run 4, iteration: 2/100, moves: 0, cost: 6.0\n",
      "Init: initializing centroids\n",
      "Init: initializing clusters\n",
      "Starting iterations...\n",
      "Run 5, iteration: 1/100, moves: 0, cost: 7.0\n",
      "Best run was number 1\n",
      "Init: initializing centroids\n",
      "Init: initializing clusters\n",
      "Starting iterations...\n",
      "Run 1, iteration: 1/100, moves: 0, cost: 5.0\n",
      "Init: initializing centroids\n",
      "Init: initializing clusters\n",
      "Starting iterations...\n",
      "Run 2, iteration: 1/100, moves: 0, cost: 6.0\n",
      "Init: initializing centroids\n",
      "Init: initializing clusters\n",
      "Starting iterations...\n",
      "Run 3, iteration: 1/100, moves: 2, cost: 4.0\n",
      "Run 3, iteration: 2/100, moves: 0, cost: 4.0\n",
      "Init: initializing centroids\n",
      "Init: initializing clusters\n",
      "Starting iterations...\n",
      "Run 4, iteration: 1/100, moves: 0, cost: 6.0\n",
      "Init: initializing centroids\n",
      "Init: initializing clusters\n",
      "Starting iterations...\n",
      "Run 5, iteration: 1/100, moves: 0, cost: 4.0\n",
      "Best run was number 3\n",
      "Init: initializing centroids\n",
      "Init: initializing clusters\n",
      "Starting iterations...\n",
      "Run 1, iteration: 1/100, moves: 0, cost: 3.0\n",
      "Init: initializing centroids\n",
      "Init: initializing clusters\n",
      "Starting iterations...\n",
      "Run 2, iteration: 1/100, moves: 0, cost: 3.0\n",
      "Init: initializing centroids\n",
      "Init: initializing clusters\n",
      "Starting iterations...\n",
      "Run 3, iteration: 1/100, moves: 0, cost: 3.0\n",
      "Init: initializing centroids\n",
      "Init: initializing clusters\n",
      "Starting iterations...\n",
      "Run 4, iteration: 1/100, moves: 0, cost: 3.0\n",
      "Init: initializing centroids\n",
      "Init: initializing clusters\n",
      "Starting iterations...\n",
      "Run 5, iteration: 1/100, moves: 0, cost: 3.0\n",
      "Best run was number 1\n",
      "Init: initializing centroids\n",
      "Init: initializing clusters\n",
      "Starting iterations...\n",
      "Run 1, iteration: 1/100, moves: 0, cost: 2.0\n",
      "Init: initializing centroids\n",
      "Init: initializing clusters\n",
      "Starting iterations...\n",
      "Run 2, iteration: 1/100, moves: 0, cost: 2.0\n",
      "Init: initializing centroids\n",
      "Init: initializing clusters\n",
      "Starting iterations...\n",
      "Run 3, iteration: 1/100, moves: 0, cost: 2.0\n",
      "Init: initializing centroids\n",
      "Init: initializing clusters\n",
      "Starting iterations...\n",
      "Run 4, iteration: 1/100, moves: 0, cost: 2.0\n",
      "Init: initializing centroids\n",
      "Init: initializing clusters\n",
      "Starting iterations...\n",
      "Run 5, iteration: 1/100, moves: 0, cost: 2.0\n",
      "Best run was number 1\n"
     ]
    },
    {
     "data": {
      "image/png": "[encoded data removed]",
      "text/plain": [
       "<Figure size 640x480 with 2 Axes>"
      ]
     },
     "metadata": {},
     "output_type": "display_data"
    }
   ],
   "source": [
    "cost = []\n",
    "silhouette_scores = []\n",
    "K_range = range(2, 7)\n",
    "\n",
    "for k in K_range:\n",
    "    km = KModes(n_clusters=k, init=\"Huang\", n_init=5, verbose=1)\n",
    "    clusters = km.fit_predict(df_encoded)\n",
    "    cost.append(km.cost_)\n",
    "    \n",
    "    # Calculate silhouette score for categorical data\n",
    "    silhouette_avg = silhouette_score(df_encoded, clusters, metric='hamming')\n",
    "    silhouette_scores.append(silhouette_avg)\n",
    "\n",
    "# Plotting the Elbow method and silhouette scores\n",
    "fig, ax1 = plt.subplots()\n",
    "\n",
    "color = 'tab:red'\n",
    "ax1.set_xlabel('Number of clusters (k)')\n",
    "ax1.set_ylabel('Cost', color=color)\n",
    "ax1.plot(K_range, cost, 'rx-')\n",
    "ax1.tick_params(axis='y', labelcolor=color)\n",
    "\n",
    "ax2 = ax1.twinx()\n",
    "color = 'tab:blue'\n",
    "ax2.set_ylabel('Silhouette Score', color=color)\n",
    "ax2.plot(K_range, silhouette_scores, 'bx-')\n",
    "ax2.tick_params(axis='y', labelcolor=color)\n",
    "\n",
    "plt.title('Elbow Method and Silhouette Score to Determine Optimal k')\n",
    "plt.show()"
   ]
  },
  {
   "cell_type": "code",
   "execution_count": 38,
   "id": "b2ace072-d6dc-4cc1-b5de-ab136ee29f19",
   "metadata": {},
   "outputs": [
    {
     "name": "stdout",
     "output_type": "stream",
     "text": [
      "Optimal number of clusters is: 3\n"
     ]
    }
   ],
   "source": [
    "def calculate_optimal_k(inertia_values):\n",
    "    #joining the first and the last point of the inertia range\n",
    "    x1, y1 = 1, inertia_values[0]\n",
    "    x2, y2 = len(inertia_values), inertia_values[-1]\n",
    "    \n",
    "    distances = []\n",
    "    for i in range(len(inertia_values)):\n",
    "        x0 = i + 1\n",
    "        y0 = inertia_values[i]\n",
    "        # Calculate the distance from each point to the line\n",
    "        a = abs((y2 - y1) * x0 - (x2 - x1) * y0 + x2 * y1 - y2 * x1)\n",
    "        b = np.sqrt((y2 - y1) ** 2 + (x2 - x1) ** 2)\n",
    "        dist = a / b\n",
    "        distances.append(dist)\n",
    "\n",
    "    return np.argmax(distances) + 1\n",
    "opt = calculate_optimal_k(cost)\n",
    "print(\"Optimal number of clusters is:\",opt)"
   ]
  },
  {
   "cell_type": "markdown",
   "id": "f2fb64cb-aa02-4c7b-af55-5a1019710e5e",
   "metadata": {},
   "source": [
    "Task 2:  Use scatter plots or other visualization techniques to visualize the clusters."
   ]
  },
  {
   "cell_type": "code",
   "execution_count": 44,
   "id": "3da64099-990e-4603-a4ef-c0e13c9e3546",
   "metadata": {},
   "outputs": [
    {
     "name": "stdout",
     "output_type": "stream",
     "text": [
      "Init: initializing centroids\n",
      "Init: initializing clusters\n",
      "Starting iterations...\n",
      "Run 1, iteration: 1/100, moves: 3, cost: 6.0\n",
      "Run 1, iteration: 2/100, moves: 0, cost: 6.0\n",
      "Init: initializing centroids\n",
      "Init: initializing clusters\n",
      "Starting iterations...\n",
      "Run 2, iteration: 1/100, moves: 0, cost: 6.0\n",
      "Init: initializing centroids\n",
      "Init: initializing clusters\n",
      "Starting iterations...\n",
      "Run 3, iteration: 1/100, moves: 0, cost: 6.0\n",
      "Init: initializing centroids\n",
      "Init: initializing clusters\n",
      "Starting iterations...\n",
      "Run 4, iteration: 1/100, moves: 0, cost: 6.0\n",
      "Init: initializing centroids\n",
      "Init: initializing clusters\n",
      "Starting iterations...\n",
      "Run 5, iteration: 1/100, moves: 0, cost: 8.0\n",
      "Best run was number 1\n"
     ]
    },
    {
     "data": {
      "image/png": "[encoded data removed]",
      "text/plain": [
       "<Figure size 800x600 with 1 Axes>"
      ]
     },
     "metadata": {},
     "output_type": "display_data"
    }
   ],
   "source": [
    "km = KModes(n_clusters=opt, init=\"Huang\", n_init=5, verbose=1)\n",
    "clusters = km.fit_predict(df_encoded)\n",
    "centroids = km.cluster_centroids_\n",
    "\n",
    "# Plotting cluster membership\n",
    "colors = ['r', 'g', 'b']\n",
    "plt.figure(figsize=(8, 6))\n",
    "for i, cluster in enumerate(clusters):\n",
    "    plt.scatter(df_encoded.iloc[i, 0], df_encoded.iloc[i, 1], color=colors[cluster], label=f'Cluster {cluster+1}')\n",
    "plt.scatter(centroids[:, 0], centroids[:, 1], s=300, c='red', marker='x', label='Centroids')\n",
    "plt.title(f\"Cluster Visualization for k={opt}\")\n",
    "plt.xlabel('Hair Color (encoded)')\n",
    "plt.ylabel('Eye Color (encoded)')\n",
    "plt.show()"
   ]
  },
  {
   "cell_type": "markdown",
   "id": "23103756-a12d-42b8-b811-15fbf55b922d",
   "metadata": {},
   "source": [
    "Task 3: How many epochs are required to find the optimal clusters? Write a\r\n",
    "definition to show the output of each epoch and use scatter plots for visualization\r\n",
    "(after each epoch)."
   ]
  },
  {
   "cell_type": "code",
   "execution_count": 47,
   "id": "2a21abae-850e-4d20-9bf0-ce52e19069c6",
   "metadata": {},
   "outputs": [
    {
     "name": "stdout",
     "output_type": "stream",
     "text": [
      "Init: initializing centroids\n",
      "Init: initializing clusters\n",
      "Starting iterations...\n",
      "Run 1, iteration: 1/100, moves: 1, cost: 7.0\n",
      "Number of epochs to find the optimal clusters: 0\n"
     ]
    }
   ],
   "source": [
    "class KModesTracker(KModes):\n",
    "    def _e_step(self, X):\n",
    "        clusters = super()._e_step(X)\n",
    "        self.current_clusters = clusters\n",
    "        return clusters\n",
    "\n",
    "    def fit(self, X):\n",
    "        self.history = []\n",
    "        super().fit(X)\n",
    "        return self\n",
    "\n",
    "    def _m_step(self, X, clusters):\n",
    "        self.history.append(self.current_clusters.copy())\n",
    "        return super()._m_step(X, clusters)\n",
    "\n",
    "# Perform K-Modes clustering while tracking the epoch history\n",
    "km_tracker = KModesTracker(n_clusters=opt, init=\"Huang\", n_init=1, verbose=1)\n",
    "km_tracker.fit(df_encoded)\n",
    "\n",
    "# Visualizing the clusters after each epoch\n",
    "epochs = len(km_tracker.history)\n",
    "for epoch in range(epochs):\n",
    "    plt.figure(figsize=(8, 6))\n",
    "    clusters = km_tracker.history[epoch]\n",
    "    for i, cluster in enumerate(clusters):\n",
    "        plt.scatter(df_encoded.iloc[i, 0], df_encoded.iloc[i, 1], color=colors[cluster], label=f'Cluster {cluster+1}')\n",
    "    plt.title(f\"Cluster Visualization at Epoch {epoch+1}\")\n",
    "    plt.xlabel('Hair Color (encoded)')\n",
    "    plt.ylabel('Eye Color (encoded)')\n",
    "    plt.show()\n",
    "\n",
    "print(f\"Number of epochs to find the optimal clusters: {epochs}\")\n"
   ]
  },
  {
   "cell_type": "code",
   "execution_count": null,
   "id": "79a8270e-4409-4b2a-871a-634f591634a6",
   "metadata": {},
   "outputs": [],
   "source": []
  }
 ],
 "metadata": {
  "kernelspec": {
   "display_name": "Python 3 (ipykernel)",
   "language": "python",
   "name": "python3"
  },
  "language_info": {
   "codemirror_mode": {
    "name": "ipython",
    "version": 3
   },
   "file_extension": ".py",
   "mimetype": "text/x-python",
   "name": "python",
   "nbconvert_exporter": "python",
   "pygments_lexer": "ipython3",
   "version": "3.12.4"
  }
 },
 "nbformat": 4,
 "nbformat_minor": 5
}
